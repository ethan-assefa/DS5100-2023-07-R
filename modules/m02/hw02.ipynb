{
 "cells": [
  {
   "cell_type": "markdown",
   "id": "d31b93a7-f221-4338-b044-734458a05492",
   "metadata": {
    "tags": []
   },
   "source": [
    "# Metadata\n",
    "\n",
    "```yaml\n",
    "Course:   DS 5100\n",
    "Term:     Summer 2023 Residential\n",
    "Module:   M02 Homework\n",
    "Author:   R.C. Alvarado\n",
    "Date:     7 July 2023\n",
    "```"
   ]
  },
  {
   "cell_type": "markdown",
   "id": "91c2bea0-57b5-4e2d-b7c3-bae818c949cc",
   "metadata": {},
   "source": [
    "# Student Info\n",
    "\n",
    "* Name: Ethan Assefa\n",
    "* Net ID: eda8ek\n",
    "* URL of this file in GitHub: https://github.com/ethan-assefa/DS5100-2023-07-R/blob/main/modules/m02/hw02.ipynb"
   ]
  },
  {
   "cell_type": "markdown",
   "id": "cf3260a5-5781-4529-ba47-8b22f3ab9944",
   "metadata": {
    "tags": []
   },
   "source": [
    "# Instructions\n",
    "\n",
    "In your **private course repo on Rivanna**, write a Jupyter notebook running Python that performs the numbered tasks below. For each task, create a code block to perform the task.\n",
    "\n",
    "Save your notebook in the `M02` directory as `hw02.ipynb`. \n",
    "\n",
    "Add and commit these files to your repo. \n",
    "\n",
    "Then push your commits to your repo on GitHib.\n",
    "\n",
    "Be sure to fill out the **Student Info** block above.\n",
    "\n",
    "To submit your homework, save the notebook as a PDF and upload it to GradeScope, following the instructions."
   ]
  },
  {
   "cell_type": "markdown",
   "id": "a784a66a-dedd-4ddb-997b-781d4a36129f",
   "metadata": {
    "tags": []
   },
   "source": [
    "# Data\n",
    "\n",
    "```\n",
    "Table 1: GRADES\n",
    "\n",
    "name    grade\n",
    "Jon     95\n",
    "Mike    84\n",
    "Jaime   99\n",
    "\n",
    "\n",
    "Table 2: TOUCHDOWNS\n",
    "\n",
    "name    touchdowns\n",
    "Alex    2\n",
    "Patrick 4\n",
    "Tom     1\n",
    "Joe     3\n",
    "Alex    1\n",
    "```"
   ]
  },
  {
   "cell_type": "markdown",
   "id": "d78a0b85-7e51-478e-8668-44208f3bbe93",
   "metadata": {
    "tags": []
   },
   "source": [
    "# Tasks"
   ]
  },
  {
   "cell_type": "markdown",
   "id": "31494f23-b4ba-441e-908b-2a05be5ab12f",
   "metadata": {
    "tags": []
   },
   "source": [
    "## Task 1\n",
    "\n",
    "Using the data in Table 1, create a dictionary called `gradebook` where the keys contain the names and the values are the associated grades. Print the dictionary.  (1 PT) "
   ]
  },
  {
   "cell_type": "code",
   "execution_count": 1,
   "id": "5a489efe-a6de-44da-8b56-92ad3742d5ad",
   "metadata": {
    "tags": []
   },
   "outputs": [
    {
     "name": "stdout",
     "output_type": "stream",
     "text": [
      "{'Jon': 95, 'Mike': 84, 'Jamie': 99}\n"
     ]
    }
   ],
   "source": [
    "# Create the gradebook dictionary\n",
    "gradebook = {\"Jon\":95, \n",
    "            \"Mike\":84,\n",
    "            \"Jamie\":99}\n",
    "# Print the gradebook dictionary\n",
    "print(gradebook)"
   ]
  },
  {
   "cell_type": "markdown",
   "id": "c82daae4-d392-41c2-b5ad-666c1d49b4ec",
   "metadata": {
    "tags": []
   },
   "source": [
    "## Task 2 \n",
    "\n",
    "Index into the gradebook to print Mike's grade. Do NOT use the `get()` method for this. (1 PT) "
   ]
  },
  {
   "cell_type": "code",
   "execution_count": 7,
   "id": "085a45f2-1cec-40f9-9ecb-c4f1cdfbe44e",
   "metadata": {
    "tags": []
   },
   "outputs": [
    {
     "name": "stdout",
     "output_type": "stream",
     "text": [
      "84\n"
     ]
    }
   ],
   "source": [
    "# Index to the key Mike and prints his grade\n",
    "print(gradebook[\"Mike\"])"
   ]
  },
  {
   "cell_type": "markdown",
   "id": "62c2f26c-a62f-4f9b-8438-fe04fff703ab",
   "metadata": {
    "tags": []
   },
   "source": [
    "## Task 3\n",
    "\n",
    "Attempt to index into gradebook to print Jeff's grade. Show the result. Do NOT use the `get()` method for this. (1 PT) "
   ]
  },
  {
   "cell_type": "code",
   "execution_count": 8,
   "id": "b762bb45-d99c-46d1-9087-42ae931e5336",
   "metadata": {
    "tags": []
   },
   "outputs": [
    {
     "ename": "KeyError",
     "evalue": "'Jeff'",
     "output_type": "error",
     "traceback": [
      "\u001b[1;31m---------------------------------------------------------------------------\u001b[0m",
      "\u001b[1;31mKeyError\u001b[0m                                  Traceback (most recent call last)",
      "Cell \u001b[1;32mIn[8], line 3\u001b[0m\n\u001b[0;32m      1\u001b[0m \u001b[38;5;66;03m# Index to the key Jeff and prints his grade\u001b[39;00m\n\u001b[0;32m      2\u001b[0m \u001b[38;5;66;03m# Will not give output because there is no key called Jeff\u001b[39;00m\n\u001b[1;32m----> 3\u001b[0m \u001b[38;5;28mprint\u001b[39m(\u001b[43mgradebook\u001b[49m\u001b[43m[\u001b[49m\u001b[38;5;124;43m\"\u001b[39;49m\u001b[38;5;124;43mJeff\u001b[39;49m\u001b[38;5;124;43m\"\u001b[39;49m\u001b[43m]\u001b[49m)\n",
      "\u001b[1;31mKeyError\u001b[0m: 'Jeff'"
     ]
    }
   ],
   "source": [
    "# Index to the key Jeff and prints his grade\n",
    "# Will not give output because there is no key called Jeff\n",
    "print(gradebook[\"Jeff\"])"
   ]
  },
  {
   "cell_type": "markdown",
   "id": "c18a17ef-e807-417b-807b-fedc47d1d961",
   "metadata": {
    "tags": []
   },
   "source": [
    "## Task 4\n",
    "\n",
    "Using Table 2, build a list from the names called `names` and print it. (1 PT) "
   ]
  },
  {
   "cell_type": "code",
   "execution_count": 12,
   "id": "bc13167e-ae26-4852-b0a9-b8943da95b6f",
   "metadata": {
    "tags": []
   },
   "outputs": [
    {
     "name": "stdout",
     "output_type": "stream",
     "text": [
      "['Alex', 'Patrick', 'Tom', 'Joe', 'Alex']\n"
     ]
    }
   ],
   "source": [
    "# Create list of names\n",
    "names = list([\"Alex\", \"Patrick\", \"Tom\", \"Joe\", \"Alex\"])\n",
    "# Print the names list\n",
    "print(names)"
   ]
  },
  {
   "cell_type": "markdown",
   "id": "608bfe76-c55b-4136-a118-eeb23bf2a521",
   "metadata": {
    "tags": []
   },
   "source": [
    "## Task 5\n",
    "\n",
    "Sort the list in ascending order and print it. (1 PT) "
   ]
  },
  {
   "cell_type": "code",
   "execution_count": 15,
   "id": "5be543cb-1433-4982-8719-49bf59a6ad39",
   "metadata": {
    "tags": []
   },
   "outputs": [
    {
     "name": "stdout",
     "output_type": "stream",
     "text": [
      "['Alex', 'Alex', 'Joe', 'Patrick', 'Tom']\n"
     ]
    }
   ],
   "source": [
    "# Sorts list in ascending order and prints it\n",
    "print(sorted(names))"
   ]
  },
  {
   "cell_type": "markdown",
   "id": "98596172-7f6d-43e0-b5af-ff3fe82a2191",
   "metadata": {
    "tags": []
   },
   "source": [
    "## Task 6 \n",
    "\n",
    "Build a set from the names in Table 2 and print it. (1 PT) "
   ]
  },
  {
   "cell_type": "code",
   "execution_count": 29,
   "id": "8af4b364-8338-4e21-ac47-41cd6e178f84",
   "metadata": {
    "tags": []
   },
   "outputs": [
    {
     "name": "stdout",
     "output_type": "stream",
     "text": [
      "{'Alex', 'Tom', 'Joe', 'Patrick'}\n"
     ]
    }
   ],
   "source": [
    "# Turns list of names into set\n",
    "names_set = set(names)\n",
    "# Prints the names set\n",
    "print(names_set)"
   ]
  },
  {
   "cell_type": "markdown",
   "id": "3f4a50e8-6aa0-4c1d-a1f4-e78fa9c7341f",
   "metadata": {
    "tags": []
   },
   "source": [
    "## Task 7\n",
    "\n",
    "Build a dictionary from the touchdowns data, calling it `td`, and print it. Use lists to store the values. Remember that dictionary keys must be unique. (1 PT) "
   ]
  },
  {
   "cell_type": "code",
   "execution_count": 30,
   "id": "13025689-51ec-472c-a4aa-4a2bf1cefa3d",
   "metadata": {
    "tags": []
   },
   "outputs": [
    {
     "name": "stdout",
     "output_type": "stream",
     "text": [
      "{'Alex': [2, 1], 'Patrick': 4, 'Tom': 1, 'Joe': 3}\n"
     ]
    }
   ],
   "source": [
    "# Creates td dictionary\n",
    "td = {\"Alex\" : [2, 1], \n",
    "      \"Patrick\" : 4, \n",
    "      \"Tom\" : 1, \n",
    "      \"Joe\": 3}\n",
    "# Prints the td dictionary\n",
    "print(td)"
   ]
  },
  {
   "cell_type": "markdown",
   "id": "baca83a6-b99e-4bab-9d8b-9f337faed873",
   "metadata": {
    "tags": []
   },
   "source": [
    "## Task 8\n",
    "\n",
    "Compute the sum of Alex's touchdowns using the appropriate built-in function."
   ]
  },
  {
   "cell_type": "code",
   "execution_count": 31,
   "id": "3f5399fb-bf65-4c0b-b213-39028fa97aab",
   "metadata": {
    "tags": []
   },
   "outputs": [
    {
     "name": "stdout",
     "output_type": "stream",
     "text": [
      "Sum of Alex's touchdowns:  3\n"
     ]
    }
   ],
   "source": [
    "# Calculates the sum using the sum() function\n",
    "print(\"Sum of Alex's touchdowns: \", sum([2,1]))"
   ]
  },
  {
   "cell_type": "markdown",
   "id": "e7464915-39e1-41f2-ae6b-619465279dfb",
   "metadata": {
    "tags": []
   },
   "source": [
    "## Task 9\n",
    "\n",
    "Get the keys from `td` and save them as a sorted list `list1`. Then get a set from `names` and save them as a sorted list called `list2`. Compare them with a boolean operator to see if they are equal. (2 PTS)"
   ]
  },
  {
   "cell_type": "code",
   "execution_count": 39,
   "id": "498341c5-2288-4c06-a6d7-5a690ef3444e",
   "metadata": {
    "tags": []
   },
   "outputs": [
    {
     "data": {
      "text/plain": [
       "True"
      ]
     },
     "execution_count": 39,
     "metadata": {},
     "output_type": "execute_result"
    }
   ],
   "source": [
    "# Takes the keys from the dictionary and turns them into a sorted list \n",
    "list1 = list(sorted(td.keys()))\n",
    "# Takes the set of names and turns it into a sorted list\n",
    "list2 = list(sorted(names_set))\n",
    "# Checks for equality between the two sorted lists, returns true since they are the same\n",
    "list1 == list2"
   ]
  }
 ],
 "metadata": {
  "kernelspec": {
   "display_name": "Python 3 (ipykernel)",
   "language": "python",
   "name": "python3"
  },
  "language_info": {
   "codemirror_mode": {
    "name": "ipython",
    "version": 3
   },
   "file_extension": ".py",
   "mimetype": "text/x-python",
   "name": "python",
   "nbconvert_exporter": "python",
   "pygments_lexer": "ipython3",
   "version": "3.10.9"
  },
  "widgets": {
   "application/vnd.jupyter.widget-state+json": {
    "state": {},
    "version_major": 2,
    "version_minor": 0
   }
  }
 },
 "nbformat": 4,
 "nbformat_minor": 5
}
