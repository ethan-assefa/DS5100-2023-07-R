{
 "cells": [
  {
   "cell_type": "markdown",
   "id": "bc6dccf8-93a9-46df-ba5c-b135f27d6aaa",
   "metadata": {},
   "source": [
    "## Module 02 Excercises\n",
    "#### Ethan Assefa\n",
    "\n",
    "### Excercise 2.1\n",
    "Define a string with a length `>=6` and print\n",
    "- The first three characters of string\n",
    "- The last three characters of string"
   ]
  },
  {
   "cell_type": "code",
   "execution_count": 1,
   "id": "05f73141-c0ae-4e13-a9e0-f8eb7f4d6a51",
   "metadata": {
    "tags": []
   },
   "outputs": [],
   "source": [
    "# Define the string\n",
    "string = \"Words that are there\""
   ]
  },
  {
   "cell_type": "code",
   "execution_count": 2,
   "id": "ee0a8b5a-8ab7-4754-b3a0-582a32bdd4c0",
   "metadata": {
    "tags": []
   },
   "outputs": [
    {
     "name": "stdout",
     "output_type": "stream",
     "text": [
      "Words that are there\n"
     ]
    }
   ],
   "source": [
    "# Prints the string\n",
    "print(string)"
   ]
  },
  {
   "cell_type": "code",
   "execution_count": 3,
   "id": "9346097d-0210-4154-9818-a89038bca886",
   "metadata": {
    "tags": []
   },
   "outputs": [
    {
     "name": "stdout",
     "output_type": "stream",
     "text": [
      "Wor\n"
     ]
    }
   ],
   "source": [
    "# Prints the first three characters\n",
    "print(string[:3])"
   ]
  },
  {
   "cell_type": "code",
   "execution_count": 4,
   "id": "170de146-69d6-4048-b586-8cbc54207ae5",
   "metadata": {
    "tags": []
   },
   "outputs": [
    {
     "name": "stdout",
     "output_type": "stream",
     "text": [
      "ere\n"
     ]
    }
   ],
   "source": [
    "# Prints the last three characters\n",
    "print(string[-3:])"
   ]
  },
  {
   "cell_type": "markdown",
   "id": "62521ac6-a3e0-4c1d-98da-cd35d7d00f36",
   "metadata": {},
   "source": [
    "### Excercise 2.2\n",
    "Create a new list and assign three values\n",
    "- Then print the second element from the list"
   ]
  },
  {
   "cell_type": "code",
   "execution_count": 5,
   "id": "8d255898-5875-472b-8385-e5acba45cb18",
   "metadata": {
    "tags": []
   },
   "outputs": [],
   "source": [
    "# Create a list\n",
    "lists = [1,2,3]"
   ]
  },
  {
   "cell_type": "code",
   "execution_count": 6,
   "id": "78b1fda2-814c-4918-8a1a-6f79dde711d8",
   "metadata": {
    "tags": []
   },
   "outputs": [
    {
     "name": "stdout",
     "output_type": "stream",
     "text": [
      "[1, 2, 3]\n"
     ]
    }
   ],
   "source": [
    "# Print the list\n",
    "print(lists)"
   ]
  },
  {
   "cell_type": "code",
   "execution_count": 7,
   "id": "e5e5d5b4-3cc6-48a9-b6eb-e85ab3e9f461",
   "metadata": {
    "tags": []
   },
   "outputs": [
    {
     "name": "stdout",
     "output_type": "stream",
     "text": [
      "2\n"
     ]
    }
   ],
   "source": [
    "# Prints the second element from the list\n",
    "print(lists[1])"
   ]
  },
  {
   "cell_type": "markdown",
   "id": "6a265e83-e11a-4643-9703-2dea542a4e85",
   "metadata": {},
   "source": [
    "### Excecise 2.3\n",
    "Create a tuple with three values\n",
    "- Then try to append a fourth value"
   ]
  },
  {
   "cell_type": "code",
   "execution_count": 8,
   "id": "fbea0bbc-c238-4974-9c14-efef43b11021",
   "metadata": {
    "tags": []
   },
   "outputs": [],
   "source": [
    "# Create a tuple\n",
    "tuples = (1,2,3)"
   ]
  },
  {
   "cell_type": "code",
   "execution_count": 9,
   "id": "392e7978-b759-40f4-b3a8-625b690c9ec6",
   "metadata": {
    "tags": []
   },
   "outputs": [
    {
     "name": "stdout",
     "output_type": "stream",
     "text": [
      "(1, 2, 3)\n"
     ]
    }
   ],
   "source": [
    "# Print the tuple\n",
    "print(tuples)"
   ]
  },
  {
   "cell_type": "code",
   "execution_count": 10,
   "id": "1bc24637-6baf-445c-9450-5c31842bd7d5",
   "metadata": {
    "tags": []
   },
   "outputs": [
    {
     "ename": "AttributeError",
     "evalue": "'tuple' object has no attribute 'append'",
     "output_type": "error",
     "traceback": [
      "\u001b[1;31m---------------------------------------------------------------------------\u001b[0m",
      "\u001b[1;31mAttributeError\u001b[0m                            Traceback (most recent call last)",
      "Cell \u001b[1;32mIn[10], line 2\u001b[0m\n\u001b[0;32m      1\u001b[0m \u001b[38;5;66;03m# Use the append function to try to add a forth value\u001b[39;00m\n\u001b[1;32m----> 2\u001b[0m tuples \u001b[38;5;241m=\u001b[39m \u001b[43mtuples\u001b[49m\u001b[38;5;241;43m.\u001b[39;49m\u001b[43mappend\u001b[49m(\u001b[38;5;241m4\u001b[39m)\n",
      "\u001b[1;31mAttributeError\u001b[0m: 'tuple' object has no attribute 'append'"
     ]
    }
   ],
   "source": [
    "# Use the append function to try to add a forth value\n",
    "tuples = tuples.append(4)"
   ]
  },
  {
   "cell_type": "markdown",
   "id": "1393a730-735d-441c-8b13-ba04c9c374e2",
   "metadata": {},
   "source": [
    "### Excercise 2.4\n",
    "- Assign value to a string\n",
    "- Assign three string values to a set\n",
    "- Check if the value is inside the set"
   ]
  },
  {
   "cell_type": "code",
   "execution_count": 11,
   "id": "c9928d34-bc6b-4f7f-b40e-a2ee9e845c7a",
   "metadata": {
    "tags": []
   },
   "outputs": [],
   "source": [
    "# Define a value\n",
    "val = \"ERROR\"\n",
    "# Creates a set\n",
    "levels = {\"WARN\", \"ERROR\", \"CRITICAL\"}"
   ]
  },
  {
   "cell_type": "code",
   "execution_count": 12,
   "id": "677bf0ae-99c6-48dd-a39b-d92845b4d20d",
   "metadata": {
    "tags": []
   },
   "outputs": [
    {
     "data": {
      "text/plain": [
       "True"
      ]
     },
     "execution_count": 12,
     "metadata": {},
     "output_type": "execute_result"
    }
   ],
   "source": [
    "# Determine if value is contained within the set\n",
    "val in levels"
   ]
  },
  {
   "cell_type": "markdown",
   "id": "56776115-4f67-4c1a-89e3-636b1dfb1388",
   "metadata": {},
   "source": [
    "### Excercise 2.5\n",
    "Create dictionary containing at least three key-value pairs\n",
    "- Use get() to index into the dicitonary with one of the keys to extract the corresponding value\n",
    "- Then store the keys in a list and print the list"
   ]
  },
  {
   "cell_type": "code",
   "execution_count": 13,
   "id": "8c0618bd-fda3-4543-9472-3b000431ee20",
   "metadata": {
    "tags": []
   },
   "outputs": [],
   "source": [
    "# Create a dictionary with three key-value pairs\n",
    "dictionary = {\"Name\":\"Joe\", \"Number\":3, \"Location\":\"New York\"}"
   ]
  },
  {
   "cell_type": "code",
   "execution_count": 14,
   "id": "bda6b0d7-518a-4205-9679-5d0e9e328730",
   "metadata": {
    "tags": []
   },
   "outputs": [
    {
     "name": "stdout",
     "output_type": "stream",
     "text": [
      "Joe\n"
     ]
    }
   ],
   "source": [
    "# Pull the value for the Name key\n",
    "print(dictionary.get(\"Name\"))"
   ]
  },
  {
   "cell_type": "code",
   "execution_count": 16,
   "id": "745f7544-6244-4d11-8c1b-cf9ac0163e5c",
   "metadata": {
    "tags": []
   },
   "outputs": [
    {
     "name": "stdout",
     "output_type": "stream",
     "text": [
      "['Name', 'Number', 'Location']\n"
     ]
    }
   ],
   "source": [
    "keylist = list(dictionary.keys())\n",
    "print(keylist)"
   ]
  },
  {
   "cell_type": "markdown",
   "id": "c52fe4a2-f9a2-443c-83bc-99b9f7dbbc01",
   "metadata": {},
   "source": [
    "### Excercise 2.6\n",
    "Convert the following sentence into a set of lowercase words sorted alphabetically\n",
    "- Do not include the punctuation mark in resulting set"
   ]
  },
  {
   "cell_type": "code",
   "execution_count": 20,
   "id": "ce1a2ad9-5691-42f6-94f2-00cc9aafce93",
   "metadata": {
    "tags": []
   },
   "outputs": [],
   "source": [
    "# Inputs the sentence into the python environment\n",
    "sentence = \"The quick brown fox jumped over the lazy dogs.\"\n",
    "# Removes the period from end of the sentence\n",
    "sentence = sentence.replace(\".\",\"\")\n",
    "# Makes all words lowercase\n",
    "sentence = sentence.lower()\n",
    "# Splits the sentence into each word by seperating at the space \n",
    "split_sentence = sentence.split(\" \")"
   ]
  },
  {
   "cell_type": "code",
   "execution_count": 21,
   "id": "572a5c1f-4277-4b9a-a462-c16a66bd2e07",
   "metadata": {
    "tags": []
   },
   "outputs": [],
   "source": [
    "# Sorts the list alphabetically\n",
    "split_sentence = sorted(split_sentence)\n",
    "# Turns the list into a set\n",
    "sentence_set = set(split_sentence)"
   ]
  },
  {
   "cell_type": "code",
   "execution_count": 24,
   "id": "fa7457cc-0940-466e-b040-8c60b2f86fae",
   "metadata": {
    "tags": []
   },
   "outputs": [
    {
     "name": "stdout",
     "output_type": "stream",
     "text": [
      "{'jumped', 'the', 'fox', 'dogs', 'over', 'quick', 'lazy', 'brown'}\n"
     ]
    }
   ],
   "source": [
    "# Prints the set\n",
    "print(sentence_set)"
   ]
  }
 ],
 "metadata": {
  "kernelspec": {
   "display_name": "Python 3 (ipykernel)",
   "language": "python",
   "name": "python3"
  },
  "language_info": {
   "codemirror_mode": {
    "name": "ipython",
    "version": 3
   },
   "file_extension": ".py",
   "mimetype": "text/x-python",
   "name": "python",
   "nbconvert_exporter": "python",
   "pygments_lexer": "ipython3",
   "version": "3.10.9"
  }
 },
 "nbformat": 4,
 "nbformat_minor": 5
}
