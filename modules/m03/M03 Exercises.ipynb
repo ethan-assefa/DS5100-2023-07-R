{
 "cells": [
  {
   "cell_type": "markdown",
   "metadata": {},
   "source": [
    "## Module 03 Excercises\n",
    "#### Ethan Assefa\n",
    "\n",
    "### Excercise 3.1\n",
    "- What would happen below if you set `val = 5`?\n",
    "\n",
    "```\n",
    "val = -2\n",
    "\n",
    "if -10 < val < -5:\n",
    "    print(\"Bucket 1\")\n",
    "elif -5 <= val < -2:\n",
    "    print(\"Bucket 2\")\n",
    "elif val == -2:\n",
    "    print(\"Bucket 3\")   \n",
    "```\n",
    "\n",
    "If we set the value to 5, there would be no output printed at all because none of the conditions would be met.\n",
    "\n",
    "- How would you solve this problem easily?\n",
    "\n",
    "An easy solve would be to set an `else` condition. This would trigger if none of the `if` or `elif` statements are met. In the code below, we create an `else` that prints the statement \"Bucket 4\" "
   ]
  },
  {
   "cell_type": "code",
   "execution_count": 25,
   "metadata": {},
   "outputs": [
    {
     "name": "stdout",
     "output_type": "stream",
     "text": [
      "Bucket 4\n"
     ]
    }
   ],
   "source": [
    "# Set value to 5\n",
    "val = 5\n",
    "\n",
    "# The old\n",
    "if -10 < val < -5:\n",
    "    print(\"Bucket 1\")\n",
    "elif -5 <= val < -2:\n",
    "    print(\"Bucket 2\")\n",
    "elif val == -2:\n",
    "    print(\"Bucket 3\")\n",
    "# Adds an else condition\n",
    "else:\n",
    "    print(\"Bucket 4\")"
   ]
  },
  {
   "cell_type": "markdown",
   "metadata": {},
   "source": [
    "### Excercise 3.2\n",
    "- Define list of integers `xx = [-2, 8, 0, 5, 6]`\n",
    "- Computes the maximum, storing in `max_val`\n",
    "- Loop over each value in the list and...\n",
    "    - If value is less than `max_val`, then print the value\n",
    "    - Otherwise, print the string \"max_val\""
   ]
  },
  {
   "cell_type": "code",
   "execution_count": 26,
   "metadata": {},
   "outputs": [
    {
     "name": "stdout",
     "output_type": "stream",
     "text": [
      "-2\n",
      "max_val\n",
      "0\n",
      "5\n",
      "6\n"
     ]
    }
   ],
   "source": [
    "# Define integer list xx\n",
    "xx = [-2, 8, 0, 5, 6]\n",
    "# Determine maximum integer in list\n",
    "max_val = max(xx)\n",
    "\n",
    "# Loop over list, printing value if less than max_val, printing \"max_val\" string otherwise\n",
    "for i in xx:\n",
    "    if i < max_val:\n",
    "        print(i)\n",
    "    else:\n",
    "        print(\"max_val\")"
   ]
  },
  {
   "cell_type": "markdown",
   "metadata": {},
   "source": [
    "### Excercise 3.3\n",
    "Write code that does the following:\n",
    "- Sets a variable `it` to 0\n",
    "- Sets a variable `max_iter` to 100\n",
    "- While `it < max_iter`, does the following:\n",
    "    - If `it` equals 0 or is divisible by 10, print it \n",
    "- Increase `it` by 1\n",
    "- When `it >= max_iter`, the program should quit"
   ]
  },
  {
   "cell_type": "code",
   "execution_count": 27,
   "metadata": {},
   "outputs": [
    {
     "name": "stdout",
     "output_type": "stream",
     "text": [
      "0\n",
      "10\n",
      "20\n",
      "30\n",
      "40\n",
      "50\n",
      "60\n",
      "70\n",
      "80\n",
      "90\n"
     ]
    }
   ],
   "source": [
    "# Define variable it as 0\n",
    "it = 0\n",
    "# Define variable max_iter to 100\n",
    "max_iter = 100\n",
    "\n",
    "# Create while loop that prints it when 0 or divisible by 10\n",
    "while it < max_iter:\n",
    "    if (it == 0) or (it % 10 == 0):\n",
    "        print(it)\n",
    "    it += 1"
   ]
  },
  {
   "cell_type": "markdown",
   "metadata": {},
   "source": [
    "### Excercise 3.4\n",
    "Create a list of four strings that are proper nouns with initial capitals, e.g. \"Quetzil\".\n",
    "\n",
    "Write a \"for\" loop to iterate over the strings and:\n",
    "- Lowercase the string\n",
    "- Print the string"
   ]
  },
  {
   "cell_type": "code",
   "execution_count": 28,
   "metadata": {},
   "outputs": [
    {
     "name": "stdout",
     "output_type": "stream",
     "text": [
      "dom\n",
      "mia\n",
      "brian\n",
      "tej\n"
     ]
    }
   ],
   "source": [
    "# Create list of names with capital letters \n",
    "stringlist = [\"Dom\", \"Mia\", \"Brian\", \"Tej\"]\n",
    "\n",
    "# Create for loop that goes through each name in list and makes lowercase\n",
    "for name in stringlist:\n",
    "    print(name.lower())"
   ]
  },
  {
   "cell_type": "markdown",
   "metadata": {},
   "source": [
    "### Excercise 3.5\n",
    "Using the list you made from the previous exercise, use `iter()` and `next()` to iterate over the list, printing each string.\n",
    "- The strings don't need to be lowercased"
   ]
  },
  {
   "cell_type": "code",
   "execution_count": 29,
   "metadata": {},
   "outputs": [
    {
     "name": "stdout",
     "output_type": "stream",
     "text": [
      "Dom\n",
      "Mia\n",
      "Brian\n",
      "Tej\n"
     ]
    }
   ],
   "source": [
    "# Creates iteratives from the string list\n",
    "myit = iter(stringlist)\n",
    "# Iteratively goes over each item in list and prints string\n",
    "print(next(myit)) \n",
    "print(next(myit)) \n",
    "print(next(myit)) \n",
    "print(next(myit)) "
   ]
  },
  {
   "cell_type": "markdown",
   "metadata": {},
   "source": [
    "### Excercise 3.6\n",
    "Create a dictionary with two city names as keys and their zip codes as values.\n",
    "- Use a for loop with `items()` to print each key-value pair"
   ]
  },
  {
   "cell_type": "code",
   "execution_count": 30,
   "metadata": {},
   "outputs": [
    {
     "name": "stdout",
     "output_type": "stream",
     "text": [
      "New York 10002\n",
      "Richmond 23059\n"
     ]
    }
   ],
   "source": [
    "# Creates dictionary with two cities as key and zip code as values\n",
    "city_dict = {\"New York\":10002, \"Richmond\":23059}\n",
    "\n",
    "# Creates for loop that prints each key-value pair with items()\n",
    "for city, zc in city_dict.items():\n",
    "    print(city, zc)"
   ]
  },
  {
   "cell_type": "markdown",
   "metadata": {},
   "source": [
    "### Excercise 3.7\n",
    "Using the dictionary from the previous exercise, use a for loop with `keys()` to print each key-value pair.\n",
    "- To extract the values, use the key to index into the dictionary value"
   ]
  },
  {
   "cell_type": "code",
   "execution_count": 31,
   "metadata": {},
   "outputs": [
    {
     "name": "stdout",
     "output_type": "stream",
     "text": [
      "New York 10002\n",
      "Richmond 23059\n"
     ]
    }
   ],
   "source": [
    "# Create a for loop that prints each key-value pair with keys()\n",
    "for city in city_dict.keys():\n",
    "    print(city, city_dict[city])"
   ]
  },
  {
   "cell_type": "markdown",
   "metadata": {},
   "source": [
    "### Excercise 3.8\n",
    "Write a list comprehension that takes a list of numeric values and returns a list of their cubes."
   ]
  },
  {
   "cell_type": "code",
   "execution_count": 32,
   "metadata": {},
   "outputs": [
    {
     "data": {
      "text/plain": [
       "[1, 8, 27, 64, 125, 216]"
      ]
     },
     "execution_count": 32,
     "metadata": {},
     "output_type": "execute_result"
    }
   ],
   "source": [
    "# Creates a list of numeric values\n",
    "mylist = [1, 2, 3, 4, 5, 6]\n",
    "\n",
    "# Runs list comprehension that returns their cubes\n",
    "cubes = [int**3 for int in mylist]\n",
    "# Prints the cubes\n",
    "cubes"
   ]
  },
  {
   "cell_type": "markdown",
   "metadata": {},
   "source": [
    "### Excercise 3.9\n",
    "Create a list of seven strings that includes some numbers and some non-numbers\n",
    "- The numbers should be quoted, like '12'\n",
    "\n",
    "Write a list comprehension that takes the list and returns a list of the strings that are numbers.\n",
    "- Hint: The string method `.isdigit()` will help"
   ]
  },
  {
   "cell_type": "code",
   "execution_count": 33,
   "metadata": {},
   "outputs": [
    {
     "data": {
      "text/plain": [
       "['18', '12', '1']"
      ]
     },
     "execution_count": 33,
     "metadata": {},
     "output_type": "execute_result"
    }
   ],
   "source": [
    "# Creates list of seven strings with numbers and non-numbers\n",
    "mylist = [\"word\", \"number\", \"18\", \"true\", \"12\", \"1\", \"false\"]\n",
    "\n",
    "# Checks if value in string is numeric\n",
    "nums = [i for i in mylist if i.isdigit()]\n",
    "\n",
    "# Prints out numeric strings\n",
    "nums"
   ]
  }
 ],
 "metadata": {
  "kernelspec": {
   "display_name": "Python 3",
   "language": "python",
   "name": "python3"
  },
  "language_info": {
   "codemirror_mode": {
    "name": "ipython",
    "version": 3
   },
   "file_extension": ".py",
   "mimetype": "text/x-python",
   "name": "python",
   "nbconvert_exporter": "python",
   "pygments_lexer": "ipython3",
   "version": "3.8.8"
  }
 },
 "nbformat": 4,
 "nbformat_minor": 4
}
